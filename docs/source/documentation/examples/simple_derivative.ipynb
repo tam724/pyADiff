{
 "cells": [
  {
   "cell_type": "markdown",
   "metadata": {},
   "source": [
    "# Simple Derivative\n",
    "\n",
    "Suppose we want to differentiate the function $f(x) = x^2$. For this function we can easily state its analytical derivative $f'(x) = 2x$.\n",
    "\n",
    "Instead of implementing the analytical derivative by hand, we want to have it computed algorithmically. Let's say we are interested in the function value $f(x)$ and its derivative at $x=0.5$.\n",
    "\n",
    "First we need to implement a function `f` which computes $f(x)$. We are already able to compute $f(0.5)$."
   ]
  },
  {
   "cell_type": "code",
   "execution_count": 1,
   "metadata": {},
   "outputs": [
    {
     "name": "stdout",
     "output_type": "stream",
     "text": [
      "f(0.5) = 0.25\n"
     ]
    }
   ],
   "source": [
    "def f(x):\n",
    "    return x**2\n",
    "\n",
    "print (\"f(0.5) = {}\".format(f(0.5)));"
   ]
  },
  {
   "cell_type": "markdown",
   "metadata": {},
   "source": [
    "To generate a function which computes the derivative, we use the `derivative` function from the `pyADiff` package. This returns a function for the derivative which we here call `df`. Now we are able to compute $f'(0.5)$"
   ]
  },
  {
   "cell_type": "code",
   "execution_count": 2,
   "metadata": {},
   "outputs": [
    {
     "name": "stdout",
     "output_type": "stream",
     "text": [
      "f'(0.5) = 1.0\n"
     ]
    }
   ],
   "source": [
    "import pyADiff\n",
    "df = pyADiff.derivative(f)\n",
    "\n",
    "print(\"f'(0.5) = {}\".format(df(0.5)));"
   ]
  },
  {
   "cell_type": "markdown",
   "metadata": {},
   "source": [
    "This result can be verified using the analytical derivative $f'(0.5) = 2 \\times 0.5 = 1$.\n",
    "\n",
    "It might be more convenient to see the functions $f$ and $f'$ as graphs. Therefore the packages `numpy` and `matplotlib.pyplot` are included."
   ]
  },
  {
   "cell_type": "code",
   "execution_count": 3,
   "metadata": {},
   "outputs": [],
   "source": [
    "import numpy as np\n",
    "import matplotlib.pyplot as plt"
   ]
  },
  {
   "cell_type": "markdown",
   "metadata": {},
   "source": [
    "Now we initialize x as 100 points between -1 and 1. And calculate the function value $f$ and its derivative $f'$ at each of the points in x. Note the way`f` and `df` are called repeatedly. While for `f` the numpy vectorization would work as expected and would return all of the inputs `x` squared, `pyADiff` would interpret `f` as a function $f : \\mathbb{R}^{100} \\to \\mathbb{R}^{100}$, where $f_i(x) = x_i^2$ and would return the jacobian of $f$.\n",
    "\n",
    "Therefore we explicitly call `f` and `df` for each `x_i` in a loop here."
   ]
  },
  {
   "cell_type": "code",
   "execution_count": 4,
   "metadata": {},
   "outputs": [],
   "source": [
    "x = np.linspace(-1, 1, 100)\n",
    "\n",
    "y = np.array([f(x_i) for x_i in x])\n",
    "dy = np.array([df(x_i) for x_i in x])"
   ]
  },
  {
   "cell_type": "markdown",
   "metadata": {},
   "source": [
    "The last step is to plot the function $f$ and its derivative $f'$ over x."
   ]
  },
  {
   "cell_type": "code",
   "execution_count": 5,
   "metadata": {},
   "outputs": [
    {
     "data": {
      "image/png": "[encoded data removed]",
      "text/plain": [
       "<Figure size 432x288 with 1 Axes>"
      ]
     },
     "metadata": {
      "needs_background": "light"
     },
     "output_type": "display_data"
    }
   ],
   "source": [
    "plt.plot(x, y, label=\"f(x) = x²\")\n",
    "plt.plot(x, dy, label=\"f'(x) = 2x\")\n",
    "plt.xlabel('x')\n",
    "plt.legend();"
   ]
  }
 ],
 "metadata": {
  "kernelspec": {
   "display_name": "Python 3",
   "language": "python",
   "name": "python3"
  },
  "language_info": {
   "codemirror_mode": {
    "name": "ipython",
    "version": 3
   },
   "file_extension": ".py",
   "mimetype": "text/x-python",
   "name": "python",
   "nbconvert_exporter": "python",
   "pygments_lexer": "ipython3",
   "version": "3.7.5"
  }
 },
 "nbformat": 4,
 "nbformat_minor": 2
}
